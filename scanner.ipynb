{
 "cells": [
  {
   "cell_type": "code",
   "execution_count": 13,
   "id": "2cf475cf",
   "metadata": {},
   "outputs": [],
   "source": [
    "import cv2\n",
    "import numpy as np"
   ]
  },
  {
   "cell_type": "code",
   "execution_count": 14,
   "id": "b76c4528",
   "metadata": {},
   "outputs": [],
   "source": [
    "image = cv2.imread(f\"C:/Users/ASUS/Downloads/CamScanner/sample.jpg\")\n",
    "image_gray = cv2.cvtColor(image, cv2.COLOR_BGR2GRAY)\n",
    "\n",
    "blurred = cv2.bilateralFilter(image_gray, d=9, sigmaColor=75, sigmaSpace=75)\n",
    "edges = cv2.Canny(blurred, threshold1=100, threshold2=200)\n",
    "\n",
    "contours, _ = cv2.findContours(edges.copy(), cv2.RETR_EXTERNAL, cv2.CHAIN_APPROX_SIMPLE)\n",
    "largest_contour = max(contours, key=cv2.contourArea)\n",
    "epsilon = 0.02 * cv2.arcLength(largest_contour, True)\n",
    "approx = cv2.approxPolyDP(largest_contour, epsilon, True)"
   ]
  },
  {
   "cell_type": "code",
   "execution_count": 15,
   "id": "8858e574",
   "metadata": {},
   "outputs": [],
   "source": [
    "def order_points(pts):\n",
    "    # مرتب‌سازی نقاط به صورت: top-left, top-right, bottom-right, bottom-left\n",
    "    rect = np.zeros((4, 2), dtype=\"float32\")\n",
    "    \n",
    "    s = pts.sum(axis=1)\n",
    "    rect[0] = pts[np.argmin(s)]  # بالا چپ\n",
    "    rect[2] = pts[np.argmax(s)]  # پایین راست\n",
    "\n",
    "    diff = np.diff(pts, axis=1)\n",
    "    rect[1] = pts[np.argmin(diff)]  # بالا راست\n",
    "    rect[3] = pts[np.argmax(diff)]  # پایین چپ\n",
    "    \n",
    "    return rect"
   ]
  },
  {
   "cell_type": "code",
   "execution_count": 16,
   "id": "ee28fc2d",
   "metadata": {},
   "outputs": [],
   "source": [
    "if len(approx) == 4:\n",
    "    pts = approx.reshape(4, 2)\n",
    "    rect = order_points(pts)\n",
    "\n",
    "    (tl, tr, br, bl) = rect\n",
    "    widthA = np.linalg.norm(br - bl)\n",
    "    widthB = np.linalg.norm(tr - tl)\n",
    "    maxWidth = int(max(widthA, widthB))\n",
    "\n",
    "    heightA = np.linalg.norm(tr - br)\n",
    "    heightB = np.linalg.norm(tl - bl)\n",
    "    maxHeight = int(max(heightA, heightB))\n",
    "\n",
    "    dst = np.array([\n",
    "        [0, 0],\n",
    "        [maxWidth - 1, 0],\n",
    "        [maxWidth - 1, maxHeight - 1],\n",
    "        [0, maxHeight - 1]], dtype=\"float32\")\n",
    "\n",
    "    M = cv2.getPerspectiveTransform(rect, dst)\n",
    "    warped = cv2.warpPerspective(image, M, (maxWidth, maxHeight))\n",
    "    \n",
    "else:\n",
    "    print(\"کانتور پیدا شده چهارضلعی نبود.\")"
   ]
  },
  {
   "cell_type": "code",
   "execution_count": 17,
   "id": "cf00efb3",
   "metadata": {},
   "outputs": [],
   "source": [
    "window_name = \"Document Filter Preview\"\n",
    "button_height = 50\n",
    "width = warped.shape[1]\n",
    "height = warped.shape[0] + button_height\n",
    "\n",
    "buttons = [\n",
    "    (\"Original\", 0),\n",
    "    (\"Gray\", 1),\n",
    "    (\"B&W\", 2),\n",
    "    (\"Magic Color\", 3)\n",
    "]"
   ]
  },
  {
   "cell_type": "code",
   "execution_count": 12,
   "id": "5fdcadba",
   "metadata": {},
   "outputs": [
    {
     "ename": "KeyboardInterrupt",
     "evalue": "",
     "output_type": "error",
     "traceback": [
      "\u001b[31m---------------------------------------------------------------------------\u001b[39m",
      "\u001b[31mKeyboardInterrupt\u001b[39m                         Traceback (most recent call last)",
      "\u001b[36mCell\u001b[39m\u001b[36m \u001b[39m\u001b[32mIn[12]\u001b[39m\u001b[32m, line 66\u001b[39m\n\u001b[32m     62\u001b[39m draw_buttons(canvas)\n\u001b[32m     64\u001b[39m cv2.imshow(window_name, canvas)\n\u001b[32m---> \u001b[39m\u001b[32m66\u001b[39m key = \u001b[43mcv2\u001b[49m\u001b[43m.\u001b[49m\u001b[43mwaitKey\u001b[49m\u001b[43m(\u001b[49m\u001b[32;43m1\u001b[39;49m\u001b[43m)\u001b[49m\n\u001b[32m     67\u001b[39m \u001b[38;5;28;01mif\u001b[39;00m key == \u001b[32m27\u001b[39m:  \u001b[38;5;66;03m# ESC برای خروج\u001b[39;00m\n\u001b[32m     68\u001b[39m     \u001b[38;5;28;01mbreak\u001b[39;00m\n",
      "\u001b[31mKeyboardInterrupt\u001b[39m: "
     ]
    }
   ],
   "source": [
    "filter_mode = 0\n",
    "\n",
    "def apply_filter(mode):\n",
    "    if mode == 0:\n",
    "        return warped\n",
    "    elif mode == 1:\n",
    "        return cv2.cvtColor(warped, cv2.COLOR_BGR2GRAY)\n",
    "    elif mode == 2:\n",
    "        gray = cv2.cvtColor(warped, cv2.COLOR_BGR2GRAY)\n",
    "        return cv2.adaptiveThreshold(\n",
    "            gray, 255, cv2.ADAPTIVE_THRESH_GAUSSIAN_C,\n",
    "            cv2.THRESH_BINARY, 11, 10)\n",
    "    elif mode == 3:\n",
    "        filtered = cv2.bilateralFilter(warped, 9, 75, 75)\n",
    "        sharpen_kernel = np.array([[0, -1, 0], [-1, 5, -1], [0, -1, 0]])\n",
    "        sharpened = cv2.filter2D(filtered, -1, sharpen_kernel)\n",
    "        hsv = cv2.cvtColor(sharpened, cv2.COLOR_BGR2HSV)\n",
    "        h, s, v = cv2.split(hsv)\n",
    "        s = np.clip(cv2.multiply(s, 1.3), 0, 255).astype(np.uint8)\n",
    "        v = np.clip(cv2.multiply(v, 1.2), 0, 255).astype(np.uint8)\n",
    "        enhanced_hsv = cv2.merge([h, s, v])\n",
    "        return cv2.cvtColor(enhanced_hsv, cv2.COLOR_HSV2BGR)\n",
    "    else:\n",
    "        return warped\n",
    "\n",
    "\n",
    "# ------------------ UI رسم ------------------\n",
    "def draw_buttons(canvas):\n",
    "    for label, idx in buttons:\n",
    "        x_start = int(idx * (width / len(buttons)))\n",
    "        x_end = int((idx + 1) * (width / len(buttons)))\n",
    "        cv2.rectangle(canvas, (x_start, height - button_height), (x_end, height), (50, 50, 50), -1)\n",
    "        cv2.putText(canvas, label, (x_start + 10, height - 15), cv2.FONT_HERSHEY_SIMPLEX, 0.6, (255, 255, 255), 1)\n",
    "\n",
    "\n",
    "def get_button_index(x):\n",
    "    segment_width = int(width / len(buttons))\n",
    "    return int(x // segment_width)\n",
    "\n",
    "\n",
    "# ------------------ ماوس هندلر ------------------\n",
    "def mouse_callback(event, x, y, flags, param):\n",
    "    global filter_mode\n",
    "    if event == cv2.EVENT_LBUTTONDOWN:\n",
    "        if y >= height - button_height:\n",
    "            filter_mode = get_button_index(x)\n",
    "\n",
    "\n",
    "# ------------------ حلقه‌ی اصلی ------------------\n",
    "cv2.namedWindow(window_name)\n",
    "cv2.setMouseCallback(window_name, mouse_callback)\n",
    "\n",
    "while True:\n",
    "    output = apply_filter(filter_mode)\n",
    "\n",
    "    # تبدیل تصویر grayscale به BGR برای نمایش صحیح\n",
    "    if len(output.shape) == 2:\n",
    "        output = cv2.cvtColor(output, cv2.COLOR_GRAY2BGR)\n",
    "\n",
    "    canvas = np.zeros((height, width, 3), dtype=np.uint8)\n",
    "    canvas[:warped.shape[0], :, :] = output\n",
    "    draw_buttons(canvas)\n",
    "\n",
    "    cv2.imshow(window_name, canvas)\n",
    "\n",
    "    key = cv2.waitKey(1)\n",
    "    if key == 27:  # ESC برای خروج\n",
    "        break\n",
    "\n",
    "cv2.destroyAllWindows()\n"
   ]
  },
  {
   "cell_type": "code",
   "execution_count": null,
   "id": "c7b3490e",
   "metadata": {},
   "outputs": [],
   "source": []
  }
 ],
 "metadata": {
  "kernelspec": {
   "display_name": "Python 3",
   "language": "python",
   "name": "python3"
  },
  "language_info": {
   "codemirror_mode": {
    "name": "ipython",
    "version": 3
   },
   "file_extension": ".py",
   "mimetype": "text/x-python",
   "name": "python",
   "nbconvert_exporter": "python",
   "pygments_lexer": "ipython3",
   "version": "3.12.0"
  }
 },
 "nbformat": 4,
 "nbformat_minor": 5
}
